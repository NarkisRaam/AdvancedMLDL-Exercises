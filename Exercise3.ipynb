{
  "nbformat": 4,
  "nbformat_minor": 0,
  "metadata": {
    "colab": {
      "provenance": [],
      "include_colab_link": true
    },
    "kernelspec": {
      "name": "python3",
      "display_name": "Python 3"
    },
    "language_info": {
      "name": "python"
    },
    "gpuClass": "standard",
    "widgets": {
      "application/vnd.jupyter.widget-state+json": {
        "fb1bfc3b708f4bebb70f2cfe33264859": {
          "model_module": "@jupyter-widgets/controls",
          "model_name": "HBoxModel",
          "model_module_version": "1.5.0",
          "state": {
            "_dom_classes": [],
            "_model_module": "@jupyter-widgets/controls",
            "_model_module_version": "1.5.0",
            "_model_name": "HBoxModel",
            "_view_count": null,
            "_view_module": "@jupyter-widgets/controls",
            "_view_module_version": "1.5.0",
            "_view_name": "HBoxView",
            "box_style": "",
            "children": [
              "IPY_MODEL_801db1b6b2a84b19b172adb613dcf7fc",
              "IPY_MODEL_0cd56f20cd5e42b489c13b985e5b7201",
              "IPY_MODEL_e5a2496d23dc489182d14bda786c3018"
            ],
            "layout": "IPY_MODEL_ba856a1302774911acf2b437219790a7"
          }
        },
        "801db1b6b2a84b19b172adb613dcf7fc": {
          "model_module": "@jupyter-widgets/controls",
          "model_name": "HTMLModel",
          "model_module_version": "1.5.0",
          "state": {
            "_dom_classes": [],
            "_model_module": "@jupyter-widgets/controls",
            "_model_module_version": "1.5.0",
            "_model_name": "HTMLModel",
            "_view_count": null,
            "_view_module": "@jupyter-widgets/controls",
            "_view_module_version": "1.5.0",
            "_view_name": "HTMLView",
            "description": "",
            "description_tooltip": null,
            "layout": "IPY_MODEL_b032add2f39a41b5acde993e31629c44",
            "placeholder": "​",
            "style": "IPY_MODEL_0ac92b1a7d59428aa383bd7d80f005b5",
            "value": "100%"
          }
        },
        "0cd56f20cd5e42b489c13b985e5b7201": {
          "model_module": "@jupyter-widgets/controls",
          "model_name": "FloatProgressModel",
          "model_module_version": "1.5.0",
          "state": {
            "_dom_classes": [],
            "_model_module": "@jupyter-widgets/controls",
            "_model_module_version": "1.5.0",
            "_model_name": "FloatProgressModel",
            "_view_count": null,
            "_view_module": "@jupyter-widgets/controls",
            "_view_module_version": "1.5.0",
            "_view_name": "ProgressView",
            "bar_style": "success",
            "description": "",
            "description_tooltip": null,
            "layout": "IPY_MODEL_1c7b8ef245554fe0bf3ca9c905184c49",
            "max": 70405,
            "min": 0,
            "orientation": "horizontal",
            "style": "IPY_MODEL_7ecb931b64af44849d65cd04854330fb",
            "value": 70405
          }
        },
        "e5a2496d23dc489182d14bda786c3018": {
          "model_module": "@jupyter-widgets/controls",
          "model_name": "HTMLModel",
          "model_module_version": "1.5.0",
          "state": {
            "_dom_classes": [],
            "_model_module": "@jupyter-widgets/controls",
            "_model_module_version": "1.5.0",
            "_model_name": "HTMLModel",
            "_view_count": null,
            "_view_module": "@jupyter-widgets/controls",
            "_view_module_version": "1.5.0",
            "_view_name": "HTMLView",
            "description": "",
            "description_tooltip": null,
            "layout": "IPY_MODEL_abb45d1dff2649329603dff0ffea0600",
            "placeholder": "​",
            "style": "IPY_MODEL_f0d79ed7b8bd4e9bab3dd4d84e2f3f95",
            "value": " 70405/70405 [00:13&lt;00:00, 4833.29it/s]"
          }
        },
        "ba856a1302774911acf2b437219790a7": {
          "model_module": "@jupyter-widgets/base",
          "model_name": "LayoutModel",
          "model_module_version": "1.2.0",
          "state": {
            "_model_module": "@jupyter-widgets/base",
            "_model_module_version": "1.2.0",
            "_model_name": "LayoutModel",
            "_view_count": null,
            "_view_module": "@jupyter-widgets/base",
            "_view_module_version": "1.2.0",
            "_view_name": "LayoutView",
            "align_content": null,
            "align_items": null,
            "align_self": null,
            "border": null,
            "bottom": null,
            "display": null,
            "flex": null,
            "flex_flow": null,
            "grid_area": null,
            "grid_auto_columns": null,
            "grid_auto_flow": null,
            "grid_auto_rows": null,
            "grid_column": null,
            "grid_gap": null,
            "grid_row": null,
            "grid_template_areas": null,
            "grid_template_columns": null,
            "grid_template_rows": null,
            "height": null,
            "justify_content": null,
            "justify_items": null,
            "left": null,
            "margin": null,
            "max_height": null,
            "max_width": null,
            "min_height": null,
            "min_width": null,
            "object_fit": null,
            "object_position": null,
            "order": null,
            "overflow": null,
            "overflow_x": null,
            "overflow_y": null,
            "padding": null,
            "right": null,
            "top": null,
            "visibility": null,
            "width": null
          }
        },
        "b032add2f39a41b5acde993e31629c44": {
          "model_module": "@jupyter-widgets/base",
          "model_name": "LayoutModel",
          "model_module_version": "1.2.0",
          "state": {
            "_model_module": "@jupyter-widgets/base",
            "_model_module_version": "1.2.0",
            "_model_name": "LayoutModel",
            "_view_count": null,
            "_view_module": "@jupyter-widgets/base",
            "_view_module_version": "1.2.0",
            "_view_name": "LayoutView",
            "align_content": null,
            "align_items": null,
            "align_self": null,
            "border": null,
            "bottom": null,
            "display": null,
            "flex": null,
            "flex_flow": null,
            "grid_area": null,
            "grid_auto_columns": null,
            "grid_auto_flow": null,
            "grid_auto_rows": null,
            "grid_column": null,
            "grid_gap": null,
            "grid_row": null,
            "grid_template_areas": null,
            "grid_template_columns": null,
            "grid_template_rows": null,
            "height": null,
            "justify_content": null,
            "justify_items": null,
            "left": null,
            "margin": null,
            "max_height": null,
            "max_width": null,
            "min_height": null,
            "min_width": null,
            "object_fit": null,
            "object_position": null,
            "order": null,
            "overflow": null,
            "overflow_x": null,
            "overflow_y": null,
            "padding": null,
            "right": null,
            "top": null,
            "visibility": null,
            "width": null
          }
        },
        "0ac92b1a7d59428aa383bd7d80f005b5": {
          "model_module": "@jupyter-widgets/controls",
          "model_name": "DescriptionStyleModel",
          "model_module_version": "1.5.0",
          "state": {
            "_model_module": "@jupyter-widgets/controls",
            "_model_module_version": "1.5.0",
            "_model_name": "DescriptionStyleModel",
            "_view_count": null,
            "_view_module": "@jupyter-widgets/base",
            "_view_module_version": "1.2.0",
            "_view_name": "StyleView",
            "description_width": ""
          }
        },
        "1c7b8ef245554fe0bf3ca9c905184c49": {
          "model_module": "@jupyter-widgets/base",
          "model_name": "LayoutModel",
          "model_module_version": "1.2.0",
          "state": {
            "_model_module": "@jupyter-widgets/base",
            "_model_module_version": "1.2.0",
            "_model_name": "LayoutModel",
            "_view_count": null,
            "_view_module": "@jupyter-widgets/base",
            "_view_module_version": "1.2.0",
            "_view_name": "LayoutView",
            "align_content": null,
            "align_items": null,
            "align_self": null,
            "border": null,
            "bottom": null,
            "display": null,
            "flex": null,
            "flex_flow": null,
            "grid_area": null,
            "grid_auto_columns": null,
            "grid_auto_flow": null,
            "grid_auto_rows": null,
            "grid_column": null,
            "grid_gap": null,
            "grid_row": null,
            "grid_template_areas": null,
            "grid_template_columns": null,
            "grid_template_rows": null,
            "height": null,
            "justify_content": null,
            "justify_items": null,
            "left": null,
            "margin": null,
            "max_height": null,
            "max_width": null,
            "min_height": null,
            "min_width": null,
            "object_fit": null,
            "object_position": null,
            "order": null,
            "overflow": null,
            "overflow_x": null,
            "overflow_y": null,
            "padding": null,
            "right": null,
            "top": null,
            "visibility": null,
            "width": null
          }
        },
        "7ecb931b64af44849d65cd04854330fb": {
          "model_module": "@jupyter-widgets/controls",
          "model_name": "ProgressStyleModel",
          "model_module_version": "1.5.0",
          "state": {
            "_model_module": "@jupyter-widgets/controls",
            "_model_module_version": "1.5.0",
            "_model_name": "ProgressStyleModel",
            "_view_count": null,
            "_view_module": "@jupyter-widgets/base",
            "_view_module_version": "1.2.0",
            "_view_name": "StyleView",
            "bar_color": null,
            "description_width": ""
          }
        },
        "abb45d1dff2649329603dff0ffea0600": {
          "model_module": "@jupyter-widgets/base",
          "model_name": "LayoutModel",
          "model_module_version": "1.2.0",
          "state": {
            "_model_module": "@jupyter-widgets/base",
            "_model_module_version": "1.2.0",
            "_model_name": "LayoutModel",
            "_view_count": null,
            "_view_module": "@jupyter-widgets/base",
            "_view_module_version": "1.2.0",
            "_view_name": "LayoutView",
            "align_content": null,
            "align_items": null,
            "align_self": null,
            "border": null,
            "bottom": null,
            "display": null,
            "flex": null,
            "flex_flow": null,
            "grid_area": null,
            "grid_auto_columns": null,
            "grid_auto_flow": null,
            "grid_auto_rows": null,
            "grid_column": null,
            "grid_gap": null,
            "grid_row": null,
            "grid_template_areas": null,
            "grid_template_columns": null,
            "grid_template_rows": null,
            "height": null,
            "justify_content": null,
            "justify_items": null,
            "left": null,
            "margin": null,
            "max_height": null,
            "max_width": null,
            "min_height": null,
            "min_width": null,
            "object_fit": null,
            "object_position": null,
            "order": null,
            "overflow": null,
            "overflow_x": null,
            "overflow_y": null,
            "padding": null,
            "right": null,
            "top": null,
            "visibility": null,
            "width": null
          }
        },
        "f0d79ed7b8bd4e9bab3dd4d84e2f3f95": {
          "model_module": "@jupyter-widgets/controls",
          "model_name": "DescriptionStyleModel",
          "model_module_version": "1.5.0",
          "state": {
            "_model_module": "@jupyter-widgets/controls",
            "_model_module_version": "1.5.0",
            "_model_name": "DescriptionStyleModel",
            "_view_count": null,
            "_view_module": "@jupyter-widgets/base",
            "_view_module_version": "1.2.0",
            "_view_name": "StyleView",
            "description_width": ""
          }
        }
      }
    }
  },
  "cells": [
    {
      "cell_type": "markdown",
      "metadata": {
        "id": "view-in-github",
        "colab_type": "text"
      },
      "source": [
        "<a href=\"https://colab.research.google.com/github/NarkisRaam/AdvancedMLDL.exercise1/blob/main/exercise3.ipynb\" target=\"_parent\"><img src=\"https://colab.research.google.com/assets/colab-badge.svg\" alt=\"Open In Colab\"/></a>"
      ]
    },
    {
      "cell_type": "markdown",
      "source": [
        "# **Assignment III - NLP: Seinfeld or Friends?** \n",
        "###**Group members:**\n",
        "\n",
        "##### Yuval Berland\n",
        "##### Narkis Raam \n",
        "##### Sagi Huly \n",
        "##### Dana Shidlovsky"
      ],
      "metadata": {
        "id": "vyZbqIErnC8i"
      }
    },
    {
      "cell_type": "markdown",
      "source": [
        "## **Imports**"
      ],
      "metadata": {
        "id": "PK-uHS5cV8Nh"
      }
    },
    {
      "cell_type": "code",
      "source": [
        "import pandas as pd\n",
        "import numpy as np\n",
        "import seaborn as sns\n",
        "import matplotlib.pyplot as plt\n",
        "import warnings\n",
        "%matplotlib inline\n",
        "warnings.filterwarnings('ignore')\n",
        "\n",
        "from bs4 import BeautifulSoup\n",
        "import re\n",
        "\n",
        "import nltk\n",
        "nltk.download('stopwords')\n",
        "\n",
        "from tqdm.notebook import tqdm\n",
        "\n",
        "from nltk.tokenize.toktok import ToktokTokenizer\n",
        "\n",
        "from sklearn.model_selection import train_test_split\n",
        "\n",
        "from keras.models import Sequential\n",
        "from keras.layers import Dropout, Conv1D, Flatten, Dense, Embedding\n",
        "from keras.preprocessing import sequence\n",
        "from tensorflow.keras.preprocessing.text import Tokenizer  \n",
        "\n",
        "from keras.utils import pad_sequences\n",
        "\n",
        "from sklearn.preprocessing import LabelBinarizer\n",
        "\n",
        "from sklearn.metrics import accuracy_score"
      ],
      "metadata": {
        "id": "WQggLBGktTuL",
        "colab": {
          "base_uri": "https://localhost:8080/"
        },
        "outputId": "f7885e0a-2e68-4686-d65a-5b0065acbe5a"
      },
      "execution_count": 1,
      "outputs": [
        {
          "output_type": "stream",
          "name": "stderr",
          "text": [
            "[nltk_data] Downloading package stopwords to /root/nltk_data...\n",
            "[nltk_data]   Unzipping corpora/stopwords.zip.\n"
          ]
        }
      ]
    },
    {
      "cell_type": "markdown",
      "source": [
        "## **Load The Data**\n"
      ],
      "metadata": {
        "id": "9lF96ECjWwIU"
      }
    },
    {
      "cell_type": "code",
      "source": [
        "train_df = pd.read_csv('https://github.com/odedovadia/AdvancedMLDLCourse/blob/main/Assignments/Assignment%20III/train.csv?raw=true')\n",
        "test_df = pd.read_csv('https://github.com/odedovadia/AdvancedMLDLCourse/blob/main/Assignments/Assignment%20III/test.csv?raw=true')"
      ],
      "metadata": {
        "id": "tDD13UHEs_wd"
      },
      "execution_count": 2,
      "outputs": []
    },
    {
      "cell_type": "markdown",
      "source": [
        "## **Visualizations**"
      ],
      "metadata": {
        "id": "Nsk-ulvlW2NG"
      }
    },
    {
      "cell_type": "code",
      "source": [
        "print(len(train_df) , len(test_df))\n",
        "train_df[:10]"
      ],
      "metadata": {
        "colab": {
          "base_uri": "https://localhost:8080/",
          "height": 380
        },
        "id": "t9SNs8hPuIjd",
        "outputId": "55e18d5d-36ae-4206-dfb8-30b9226fa8fc"
      },
      "execution_count": 3,
      "outputs": [
        {
          "output_type": "stream",
          "name": "stdout",
          "text": [
            "70405 4245\n"
          ]
        },
        {
          "output_type": "execute_result",
          "data": {
            "text/plain": [
              "                                            Dialogue Character  \\\n",
              "0                                               Hey.      joey   \n",
              "1   (to Joey) Are you gonna be embarrassed going ...    phoebe   \n",
              "2  Me? No no no, you. You're gonna tell him. I'm ...    elaine   \n",
              "3   Alright you guys are off to party number one ...  chandler   \n",
              "4  Am I? Or am I so sane that you just blew your ...    kramer   \n",
              "5   So, if you’re parents hadn’t got divorced, yo...    monica   \n",
              "6                                         What's up?      ross   \n",
              "7   (over-enthusiastic) I don't know, I don' I do...  chandler   \n",
              "8   I know. *He* always wanted to be the first bl...  chandler   \n",
              "9                 This uniform, what's it made from?    george   \n",
              "\n",
              "                                             Episode      Show  \\\n",
              "0     Season-07 Episode-13-The One Where Rosita Dies   Friends   \n",
              "1         Season-10 Episode-04-The One With The Cake   Friends   \n",
              "2                                             S03E22  Seinfeld   \n",
              "3  Season-02 Episode-22-The One With the Two Parties   Friends   \n",
              "4                                             S05E12  Seinfeld   \n",
              "5  Season-03 Episode-17-The One Without The Ski Trip   Friends   \n",
              "6   Season-05 Episode-18-The One Where Rachel Smokes   Friends   \n",
              "7      Season-09 Episode-15-The One With The Mugging   Friends   \n",
              "8    Season-10 Episode-15-The One Where Estelle Dies   Friends   \n",
              "9                                             S06E01  Seinfeld   \n",
              "\n",
              "   Dialogue_length  \n",
              "0                1  \n",
              "1               13  \n",
              "2               14  \n",
              "3               56  \n",
              "4               13  \n",
              "5               18  \n",
              "6                2  \n",
              "7               27  \n",
              "8               15  \n",
              "9                6  "
            ],
            "text/html": [
              "\n",
              "  <div id=\"df-93de3719-c9d5-47d5-ac3c-c4d7cade77cf\">\n",
              "    <div class=\"colab-df-container\">\n",
              "      <div>\n",
              "<style scoped>\n",
              "    .dataframe tbody tr th:only-of-type {\n",
              "        vertical-align: middle;\n",
              "    }\n",
              "\n",
              "    .dataframe tbody tr th {\n",
              "        vertical-align: top;\n",
              "    }\n",
              "\n",
              "    .dataframe thead th {\n",
              "        text-align: right;\n",
              "    }\n",
              "</style>\n",
              "<table border=\"1\" class=\"dataframe\">\n",
              "  <thead>\n",
              "    <tr style=\"text-align: right;\">\n",
              "      <th></th>\n",
              "      <th>Dialogue</th>\n",
              "      <th>Character</th>\n",
              "      <th>Episode</th>\n",
              "      <th>Show</th>\n",
              "      <th>Dialogue_length</th>\n",
              "    </tr>\n",
              "  </thead>\n",
              "  <tbody>\n",
              "    <tr>\n",
              "      <th>0</th>\n",
              "      <td>Hey.</td>\n",
              "      <td>joey</td>\n",
              "      <td>Season-07 Episode-13-The One Where Rosita Dies</td>\n",
              "      <td>Friends</td>\n",
              "      <td>1</td>\n",
              "    </tr>\n",
              "    <tr>\n",
              "      <th>1</th>\n",
              "      <td>(to Joey) Are you gonna be embarrassed going ...</td>\n",
              "      <td>phoebe</td>\n",
              "      <td>Season-10 Episode-04-The One With The Cake</td>\n",
              "      <td>Friends</td>\n",
              "      <td>13</td>\n",
              "    </tr>\n",
              "    <tr>\n",
              "      <th>2</th>\n",
              "      <td>Me? No no no, you. You're gonna tell him. I'm ...</td>\n",
              "      <td>elaine</td>\n",
              "      <td>S03E22</td>\n",
              "      <td>Seinfeld</td>\n",
              "      <td>14</td>\n",
              "    </tr>\n",
              "    <tr>\n",
              "      <th>3</th>\n",
              "      <td>Alright you guys are off to party number one ...</td>\n",
              "      <td>chandler</td>\n",
              "      <td>Season-02 Episode-22-The One With the Two Parties</td>\n",
              "      <td>Friends</td>\n",
              "      <td>56</td>\n",
              "    </tr>\n",
              "    <tr>\n",
              "      <th>4</th>\n",
              "      <td>Am I? Or am I so sane that you just blew your ...</td>\n",
              "      <td>kramer</td>\n",
              "      <td>S05E12</td>\n",
              "      <td>Seinfeld</td>\n",
              "      <td>13</td>\n",
              "    </tr>\n",
              "    <tr>\n",
              "      <th>5</th>\n",
              "      <td>So, if you’re parents hadn’t got divorced, yo...</td>\n",
              "      <td>monica</td>\n",
              "      <td>Season-03 Episode-17-The One Without The Ski Trip</td>\n",
              "      <td>Friends</td>\n",
              "      <td>18</td>\n",
              "    </tr>\n",
              "    <tr>\n",
              "      <th>6</th>\n",
              "      <td>What's up?</td>\n",
              "      <td>ross</td>\n",
              "      <td>Season-05 Episode-18-The One Where Rachel Smokes</td>\n",
              "      <td>Friends</td>\n",
              "      <td>2</td>\n",
              "    </tr>\n",
              "    <tr>\n",
              "      <th>7</th>\n",
              "      <td>(over-enthusiastic) I don't know, I don' I do...</td>\n",
              "      <td>chandler</td>\n",
              "      <td>Season-09 Episode-15-The One With The Mugging</td>\n",
              "      <td>Friends</td>\n",
              "      <td>27</td>\n",
              "    </tr>\n",
              "    <tr>\n",
              "      <th>8</th>\n",
              "      <td>I know. *He* always wanted to be the first bl...</td>\n",
              "      <td>chandler</td>\n",
              "      <td>Season-10 Episode-15-The One Where Estelle Dies</td>\n",
              "      <td>Friends</td>\n",
              "      <td>15</td>\n",
              "    </tr>\n",
              "    <tr>\n",
              "      <th>9</th>\n",
              "      <td>This uniform, what's it made from?</td>\n",
              "      <td>george</td>\n",
              "      <td>S06E01</td>\n",
              "      <td>Seinfeld</td>\n",
              "      <td>6</td>\n",
              "    </tr>\n",
              "  </tbody>\n",
              "</table>\n",
              "</div>\n",
              "      <button class=\"colab-df-convert\" onclick=\"convertToInteractive('df-93de3719-c9d5-47d5-ac3c-c4d7cade77cf')\"\n",
              "              title=\"Convert this dataframe to an interactive table.\"\n",
              "              style=\"display:none;\">\n",
              "        \n",
              "  <svg xmlns=\"http://www.w3.org/2000/svg\" height=\"24px\"viewBox=\"0 0 24 24\"\n",
              "       width=\"24px\">\n",
              "    <path d=\"M0 0h24v24H0V0z\" fill=\"none\"/>\n",
              "    <path d=\"M18.56 5.44l.94 2.06.94-2.06 2.06-.94-2.06-.94-.94-2.06-.94 2.06-2.06.94zm-11 1L8.5 8.5l.94-2.06 2.06-.94-2.06-.94L8.5 2.5l-.94 2.06-2.06.94zm10 10l.94 2.06.94-2.06 2.06-.94-2.06-.94-.94-2.06-.94 2.06-2.06.94z\"/><path d=\"M17.41 7.96l-1.37-1.37c-.4-.4-.92-.59-1.43-.59-.52 0-1.04.2-1.43.59L10.3 9.45l-7.72 7.72c-.78.78-.78 2.05 0 2.83L4 21.41c.39.39.9.59 1.41.59.51 0 1.02-.2 1.41-.59l7.78-7.78 2.81-2.81c.8-.78.8-2.07 0-2.86zM5.41 20L4 18.59l7.72-7.72 1.47 1.35L5.41 20z\"/>\n",
              "  </svg>\n",
              "      </button>\n",
              "      \n",
              "  <style>\n",
              "    .colab-df-container {\n",
              "      display:flex;\n",
              "      flex-wrap:wrap;\n",
              "      gap: 12px;\n",
              "    }\n",
              "\n",
              "    .colab-df-convert {\n",
              "      background-color: #E8F0FE;\n",
              "      border: none;\n",
              "      border-radius: 50%;\n",
              "      cursor: pointer;\n",
              "      display: none;\n",
              "      fill: #1967D2;\n",
              "      height: 32px;\n",
              "      padding: 0 0 0 0;\n",
              "      width: 32px;\n",
              "    }\n",
              "\n",
              "    .colab-df-convert:hover {\n",
              "      background-color: #E2EBFA;\n",
              "      box-shadow: 0px 1px 2px rgba(60, 64, 67, 0.3), 0px 1px 3px 1px rgba(60, 64, 67, 0.15);\n",
              "      fill: #174EA6;\n",
              "    }\n",
              "\n",
              "    [theme=dark] .colab-df-convert {\n",
              "      background-color: #3B4455;\n",
              "      fill: #D2E3FC;\n",
              "    }\n",
              "\n",
              "    [theme=dark] .colab-df-convert:hover {\n",
              "      background-color: #434B5C;\n",
              "      box-shadow: 0px 1px 3px 1px rgba(0, 0, 0, 0.15);\n",
              "      filter: drop-shadow(0px 1px 2px rgba(0, 0, 0, 0.3));\n",
              "      fill: #FFFFFF;\n",
              "    }\n",
              "  </style>\n",
              "\n",
              "      <script>\n",
              "        const buttonEl =\n",
              "          document.querySelector('#df-93de3719-c9d5-47d5-ac3c-c4d7cade77cf button.colab-df-convert');\n",
              "        buttonEl.style.display =\n",
              "          google.colab.kernel.accessAllowed ? 'block' : 'none';\n",
              "\n",
              "        async function convertToInteractive(key) {\n",
              "          const element = document.querySelector('#df-93de3719-c9d5-47d5-ac3c-c4d7cade77cf');\n",
              "          const dataTable =\n",
              "            await google.colab.kernel.invokeFunction('convertToInteractive',\n",
              "                                                     [key], {});\n",
              "          if (!dataTable) return;\n",
              "\n",
              "          const docLinkHtml = 'Like what you see? Visit the ' +\n",
              "            '<a target=\"_blank\" href=https://colab.research.google.com/notebooks/data_table.ipynb>data table notebook</a>'\n",
              "            + ' to learn more about interactive tables.';\n",
              "          element.innerHTML = '';\n",
              "          dataTable['output_type'] = 'display_data';\n",
              "          await google.colab.output.renderOutput(dataTable, element);\n",
              "          const docLink = document.createElement('div');\n",
              "          docLink.innerHTML = docLinkHtml;\n",
              "          element.appendChild(docLink);\n",
              "        }\n",
              "      </script>\n",
              "    </div>\n",
              "  </div>\n",
              "  "
            ]
          },
          "metadata": {},
          "execution_count": 3
        }
      ]
    },
    {
      "cell_type": "code",
      "source": [
        "train_df.info()"
      ],
      "metadata": {
        "colab": {
          "base_uri": "https://localhost:8080/"
        },
        "id": "mqUJktbrVY7W",
        "outputId": "fdd7c404-6f87-49f3-8876-1a83821877c1"
      },
      "execution_count": 4,
      "outputs": [
        {
          "output_type": "stream",
          "name": "stdout",
          "text": [
            "<class 'pandas.core.frame.DataFrame'>\n",
            "RangeIndex: 70405 entries, 0 to 70404\n",
            "Data columns (total 5 columns):\n",
            " #   Column           Non-Null Count  Dtype \n",
            "---  ------           --------------  ----- \n",
            " 0   Dialogue         70405 non-null  object\n",
            " 1   Character        70405 non-null  object\n",
            " 2   Episode          70405 non-null  object\n",
            " 3   Show             70405 non-null  object\n",
            " 4   Dialogue_length  70405 non-null  int64 \n",
            "dtypes: int64(1), object(4)\n",
            "memory usage: 2.7+ MB\n"
          ]
        }
      ]
    },
    {
      "cell_type": "markdown",
      "source": [
        "##### Words Count Distribution"
      ],
      "metadata": {
        "id": "38ZLF3Mbn5ET"
      }
    },
    {
      "cell_type": "code",
      "source": [
        "train_df['Dialogue_length'].value_counts()[:50].plot(title='Numbers of words in dialogues', kind='bar', figsize=(50, 20))"
      ],
      "metadata": {
        "colab": {
          "base_uri": "https://localhost:8080/",
          "height": 601
        },
        "id": "yfhvuGM3WRuW",
        "outputId": "4ecf4fce-37e1-42c4-e46e-85e8f7e740be"
      },
      "execution_count": 5,
      "outputs": [
        {
          "output_type": "execute_result",
          "data": {
            "text/plain": [
              "<matplotlib.axes._subplots.AxesSubplot at 0x7fa2faa02700>"
            ]
          },
          "metadata": {},
          "execution_count": 5
        },
        {
          "output_type": "display_data",
          "data": {
            "text/plain": [
              "<Figure size 3600x1440 with 1 Axes>"
            ],
            "image/png": "[encoded data removed]"
          },
          "metadata": {
            "needs_background": "light"
          }
        }
      ]
    },
    {
      "cell_type": "markdown",
      "source": [
        "##### Labels Distribution"
      ],
      "metadata": {
        "id": "DVm9fzmvnfdJ"
      }
    },
    {
      "cell_type": "code",
      "source": [
        "sns.countplot(x=train_df[\"Show\"])"
      ],
      "metadata": {
        "colab": {
          "base_uri": "https://localhost:8080/",
          "height": 296
        },
        "id": "cLdhbKwkWVEo",
        "outputId": "52517db2-7760-4146-de2a-c2a546fbfbea"
      },
      "execution_count": 6,
      "outputs": [
        {
          "output_type": "execute_result",
          "data": {
            "text/plain": [
              "<matplotlib.axes._subplots.AxesSubplot at 0x7fa2fa825220>"
            ]
          },
          "metadata": {},
          "execution_count": 6
        },
        {
          "output_type": "display_data",
          "data": {
            "text/plain": [
              "<Figure size 432x288 with 1 Axes>"
            ],
            "image/png": "[encoded data removed]"
          },
          "metadata": {
            "needs_background": "light"
          }
        }
      ]
    },
    {
      "cell_type": "markdown",
      "source": [
        "##### Character distribution between shows\n"
      ],
      "metadata": {
        "id": "kQIp4pRFnnsh"
      }
    },
    {
      "cell_type": "code",
      "source": [
        "friends_characters = train_df[train_df[\"Show\"] == 'Friends']\n",
        "seinfeld_characters = train_df[train_df[\"Show\"] == 'Seinfeld']\n",
        "\n",
        "fig, axs = plt.subplots(1,2)\n",
        "fig.set_size_inches(30,5)\n",
        "sns.countplot(data=friends_characters, y=\"Show\", hue=\"Character\", ax=axs[0])\n",
        "sns.countplot(data=seinfeld_characters, y=\"Show\", hue=\"Character\", ax=axs[1])"
      ],
      "metadata": {
        "colab": {
          "base_uri": "https://localhost:8080/",
          "height": 291
        },
        "id": "wfOWW7oFWZFV",
        "outputId": "15cf775d-cd8f-4fee-813f-323df352f030"
      },
      "execution_count": 7,
      "outputs": [
        {
          "output_type": "execute_result",
          "data": {
            "text/plain": [
              "<matplotlib.axes._subplots.AxesSubplot at 0x7fa2fa30c6d0>"
            ]
          },
          "metadata": {},
          "execution_count": 7
        },
        {
          "output_type": "display_data",
          "data": {
            "text/plain": [
              "<Figure size 2160x360 with 2 Axes>"
            ],
            "image/png": "[encoded data removed]"
          },
          "metadata": {
            "needs_background": "light"
          }
        }
      ]
    },
    {
      "cell_type": "markdown",
      "source": [
        "##### Words Count Distribution In Friends\n"
      ],
      "metadata": {
        "id": "Cg9v3OpbnkRQ"
      }
    },
    {
      "cell_type": "code",
      "source": [
        "friends_characters['Dialogue_length'].value_counts()[:50].plot(title='Numbers of words in dialogues', kind='bar', figsize=(40, 10))"
      ],
      "metadata": {
        "colab": {
          "base_uri": "https://localhost:8080/",
          "height": 402
        },
        "id": "RKASo_TDWbUA",
        "outputId": "cca6f3c5-d510-441c-bd26-5a48192b51b7"
      },
      "execution_count": 8,
      "outputs": [
        {
          "output_type": "execute_result",
          "data": {
            "text/plain": [
              "<matplotlib.axes._subplots.AxesSubplot at 0x7fa2fa2c7c10>"
            ]
          },
          "metadata": {},
          "execution_count": 8
        },
        {
          "output_type": "display_data",
          "data": {
            "text/plain": [
              "<Figure size 2880x720 with 1 Axes>"
            ],
            "image/png": "[encoded data removed]"
          },
          "metadata": {
            "needs_background": "light"
          }
        }
      ]
    },
    {
      "cell_type": "markdown",
      "source": [
        "##### Words Count Distribution In Seinfeld\n"
      ],
      "metadata": {
        "id": "6TVLlQ9_nrtS"
      }
    },
    {
      "cell_type": "code",
      "source": [
        "seinfeld_characters['Dialogue_length'].value_counts()[:50].plot(title='Numbers of words in dialogues', kind='bar', figsize=(40, 10))"
      ],
      "metadata": {
        "colab": {
          "base_uri": "https://localhost:8080/",
          "height": 402
        },
        "id": "36ojX-ZoWeHq",
        "outputId": "318bd586-3fce-47ab-f040-8555bc47fb1e"
      },
      "execution_count": 9,
      "outputs": [
        {
          "output_type": "execute_result",
          "data": {
            "text/plain": [
              "<matplotlib.axes._subplots.AxesSubplot at 0x7fa2fa2b2940>"
            ]
          },
          "metadata": {},
          "execution_count": 9
        },
        {
          "output_type": "display_data",
          "data": {
            "text/plain": [
              "<Figure size 2880x720 with 1 Axes>"
            ],
            "image/png": "[encoded data removed]"
          },
          "metadata": {
            "needs_background": "light"
          }
        }
      ]
    },
    {
      "cell_type": "markdown",
      "source": [
        "##### Means dialogue length by character\n"
      ],
      "metadata": {
        "id": "NSvb2m5Znt_8"
      }
    },
    {
      "cell_type": "code",
      "source": [
        "seinfeld_character_means = pd.DataFrame(seinfeld_characters.groupby(['Character'],sort=True)['Dialogue_length'].mean())\n",
        "seinfeld_character_means.rename(columns = {'Dialogue_length':'Dialogue_mean'}, inplace = True)\n",
        "seinfeld_character_means.reset_index(inplace=True)\n",
        "friends_character_means = pd.DataFrame(friends_characters.groupby(['Character'],sort=True)['Dialogue_length'].mean())\n",
        "friends_character_means.rename(columns = {'Dialogue_length':'Dialogue_mean'}, inplace = True)\n",
        "friends_character_means.reset_index(inplace=True)"
      ],
      "metadata": {
        "id": "F5bw3vNwWhcf"
      },
      "execution_count": 10,
      "outputs": []
    },
    {
      "cell_type": "code",
      "source": [
        "fig, axs = plt.subplots(1,2)\n",
        "fig.set_size_inches(20,5)\n",
        "sns.barplot(data=seinfeld_character_means, x=\"Character\",y=\"Dialogue_mean\",ax=axs[0]).set(title='Seinfeld')\n",
        "sns.barplot(data=friends_character_means, x=\"Character\",y=\"Dialogue_mean\",ax=axs[1]).set(title='Friends')"
      ],
      "metadata": {
        "colab": {
          "base_uri": "https://localhost:8080/",
          "height": 367
        },
        "id": "p2DK-BUuWkb1",
        "outputId": "770b94dc-4d48-413b-bb9d-9acf56333f9b"
      },
      "execution_count": 11,
      "outputs": [
        {
          "output_type": "execute_result",
          "data": {
            "text/plain": [
              "[Text(0.5, 1.0, 'Friends')]"
            ]
          },
          "metadata": {},
          "execution_count": 11
        },
        {
          "output_type": "display_data",
          "data": {
            "text/plain": [
              "<Figure size 1440x360 with 2 Axes>"
            ],
            "image/png": "[encoded data removed]"
          },
          "metadata": {
            "needs_background": "light"
          }
        }
      ]
    },
    {
      "cell_type": "code",
      "source": [
        "fig, axs = plt.subplots(1,2)\n",
        "fig.set_size_inches(20,20)\n",
        "sns.boxplot(data=friends_characters, x=\"Character\", y=\"Dialogue_length\", dodge=False, ax=axs[0]).set(title='Friends')\n",
        "sns.boxplot(data=seinfeld_characters, x=\"Character\", y=\"Dialogue_length\", dodge=False, ax=axs[1]).set(title='Seinfeld')"
      ],
      "metadata": {
        "colab": {
          "base_uri": "https://localhost:8080/",
          "height": 1000
        },
        "id": "zomiJu76Wm7L",
        "outputId": "ed9095c1-1f2e-4144-f8b3-e5810abed1ed"
      },
      "execution_count": 12,
      "outputs": [
        {
          "output_type": "execute_result",
          "data": {
            "text/plain": [
              "[Text(0.5, 1.0, 'Seinfeld')]"
            ]
          },
          "metadata": {},
          "execution_count": 12
        },
        {
          "output_type": "display_data",
          "data": {
            "text/plain": [
              "<Figure size 1440x1440 with 2 Axes>"
            ],
            "image/png": "[encoded data removed]"
          },
          "metadata": {
            "needs_background": "light"
          }
        }
      ]
    },
    {
      "cell_type": "markdown",
      "source": [
        "##### Prepare data set for pre proccessing\n"
      ],
      "metadata": {
        "id": "byNJHIgDnwh3"
      }
    },
    {
      "cell_type": "code",
      "source": [
        "x_train = train_df['Dialogue']\n",
        "y_train = train_df['Show']\n",
        "\n",
        "x_test = test_df['Dialogue']\n",
        "y_test = test_df['Show']\n",
        "print(x_train[213][:1000])"
      ],
      "metadata": {
        "colab": {
          "base_uri": "https://localhost:8080/"
        },
        "id": "qs-R87LyvIEL",
        "outputId": "610b6d75-1a7c-4fe1-9bec-b917469d5ba3"
      },
      "execution_count": 13,
      "outputs": [
        {
          "output_type": "stream",
          "name": "stdout",
          "text": [
            " (on phone) Hello? (Listens) Hold on please. Joey, it’s your mom. (Hands him the phone.)\n"
          ]
        }
      ]
    },
    {
      "cell_type": "markdown",
      "source": [
        "## **Pre-processing**"
      ],
      "metadata": {
        "id": "LsnVgtQEt2KH"
      }
    },
    {
      "cell_type": "code",
      "source": [
        "# Droping outliers by Percentiles only for train set \n",
        "characters = list(train_df['Character'].unique())\n",
        "for c in characters:\n",
        "  threshold = np.percentile(train_df[train_df['Character'] == c]['Dialogue_length'], 99.9)\n",
        "  train_df.drop(train_df[(train_df['Character'] == c) & (train_df['Dialogue_length'] > threshold)].index, inplace=True) "
      ],
      "metadata": {
        "id": "CrwIC6w-YS8C"
      },
      "execution_count": 14,
      "outputs": []
    },
    {
      "cell_type": "code",
      "source": [
        "print(\"Number of sampels after cutting outliers dialogue: \" + str(train_df.shape[0]))"
      ],
      "metadata": {
        "colab": {
          "base_uri": "https://localhost:8080/"
        },
        "id": "WhkdNPNDYZLJ",
        "outputId": "50f006f9-ad2c-4d7e-d3e8-59e01be06f34"
      },
      "execution_count": 15,
      "outputs": [
        {
          "output_type": "stream",
          "name": "stdout",
          "text": [
            "Number of sampels after cutting outliers dialogue: 70332\n"
          ]
        }
      ]
    },
    {
      "cell_type": "code",
      "source": [
        "x_train = x_train.replace('\\n' , ' ')\n",
        "x_test = x_test.replace('\\n' , ' ')"
      ],
      "metadata": {
        "id": "ivoRHg53wFO2"
      },
      "execution_count": 16,
      "outputs": []
    },
    {
      "cell_type": "markdown",
      "source": [
        "### Remove special characters"
      ],
      "metadata": {
        "id": "pEcpNGoryNqX"
      }
    },
    {
      "cell_type": "code",
      "source": [
        "# Define function for removing special characters\n",
        "def remove_special_characters(text):\n",
        "    pattern = r'[^a-zA-Z0-9\\s]'\n",
        "    text = re.sub(pattern,'',text)\n",
        "    return text\n",
        "\n",
        "# Apply function on review column\n",
        "x_train = x_train.apply(remove_special_characters)\n",
        "x_test = x_test.apply(remove_special_characters)"
      ],
      "metadata": {
        "id": "iRrw8QRA_36C"
      },
      "execution_count": 17,
      "outputs": []
    },
    {
      "cell_type": "markdown",
      "source": [
        "### Removing stop words "
      ],
      "metadata": {
        "id": "5mEi4Ri1Boq4"
      }
    },
    {
      "cell_type": "code",
      "source": [
        "stopword_list = nltk.corpus.stopwords.words('english')\n",
        "\n",
        "tokenizer = ToktokTokenizer()\n",
        "\n",
        "tokenizer.tokenize(x_train.iloc[1])"
      ],
      "metadata": {
        "colab": {
          "base_uri": "https://localhost:8080/"
        },
        "id": "27_KpBIUANuf",
        "outputId": "76011adb-e048-41f2-c7ec-e160e72a53f1"
      },
      "execution_count": 18,
      "outputs": [
        {
          "output_type": "execute_result",
          "data": {
            "text/plain": [
              "['to',\n",
              " 'Joey',\n",
              " 'Are',\n",
              " 'you',\n",
              " 'gonna',\n",
              " 'be',\n",
              " 'embarrassed',\n",
              " 'going',\n",
              " 'up',\n",
              " 'there',\n",
              " 'having',\n",
              " 'nothing',\n",
              " 'prepared']"
            ]
          },
          "metadata": {},
          "execution_count": 18
        }
      ]
    },
    {
      "cell_type": "code",
      "source": [
        "# Removing the stopwords\n",
        "tqdm.pandas()\n",
        "\n",
        "def remove_stopwords(text, is_lower_case=False):\n",
        "    tokens = tokenizer.tokenize(text)\n",
        "    tokens = [token.strip() for token in tokens]\n",
        "    if is_lower_case:\n",
        "        filtered_tokens = [token for token in tokens if token not in stopword_list]\n",
        "    else:\n",
        "        filtered_tokens = [token for token in tokens if token.lower() not in stopword_list]\n",
        "    filtered_text = ' '.join(filtered_tokens)    \n",
        "    return filtered_text\n",
        "\n",
        "# Apply function on review column\n",
        "x_train = x_train.progress_apply(remove_stopwords)"
      ],
      "metadata": {
        "colab": {
          "base_uri": "https://localhost:8080/",
          "height": 49,
          "referenced_widgets": [
            "fb1bfc3b708f4bebb70f2cfe33264859",
            "801db1b6b2a84b19b172adb613dcf7fc",
            "0cd56f20cd5e42b489c13b985e5b7201",
            "e5a2496d23dc489182d14bda786c3018",
            "ba856a1302774911acf2b437219790a7",
            "b032add2f39a41b5acde993e31629c44",
            "0ac92b1a7d59428aa383bd7d80f005b5",
            "1c7b8ef245554fe0bf3ca9c905184c49",
            "7ecb931b64af44849d65cd04854330fb",
            "abb45d1dff2649329603dff0ffea0600",
            "f0d79ed7b8bd4e9bab3dd4d84e2f3f95"
          ]
        },
        "id": "wTUuPJTKBL-M",
        "outputId": "afe3dc3d-7338-408a-a890-71aebb118675"
      },
      "execution_count": 19,
      "outputs": [
        {
          "output_type": "display_data",
          "data": {
            "text/plain": [
              "  0%|          | 0/70405 [00:00<?, ?it/s]"
            ],
            "application/vnd.jupyter.widget-view+json": {
              "version_major": 2,
              "version_minor": 0,
              "model_id": "fb1bfc3b708f4bebb70f2cfe33264859"
            }
          },
          "metadata": {}
        }
      ]
    },
    {
      "cell_type": "markdown",
      "source": [
        "### Train test split "
      ],
      "metadata": {
        "id": "lkppAQlnB0rr"
      }
    },
    {
      "cell_type": "code",
      "source": [
        "x_train, x_val, y_train, y_val = train_test_split(x_train, y_train, test_size=0.2, random_state=42)\n",
        "\n",
        "train_label_count = y_train.value_counts()\n",
        "test_label_count = y_test.value_counts()\n",
        "\n",
        "print(train_label_count)\n",
        "print(test_label_count)"
      ],
      "metadata": {
        "colab": {
          "base_uri": "https://localhost:8080/"
        },
        "id": "mQRnmr98B3Qu",
        "outputId": "680aa412-f0f2-4707-88ce-ff6665f2c2fe"
      },
      "execution_count": 20,
      "outputs": [
        {
          "output_type": "stream",
          "name": "stdout",
          "text": [
            "Friends     31293\n",
            "Seinfeld    25031\n",
            "Name: Show, dtype: int64\n",
            "Friends     2596\n",
            "Seinfeld    1649\n",
            "Name: Show, dtype: int64\n"
          ]
        }
      ]
    },
    {
      "cell_type": "code",
      "source": [
        "print('x_train shape:', x_train.shape)\n",
        "print('y_train shape:', y_train.shape)\n",
        "print('x_test shape:', x_test.shape)\n",
        "print('y_test shape:', y_test.shape)\n",
        "print('x_val shape:', x_val.shape)\n",
        "print('y_val shape:', y_val.shape)"
      ],
      "metadata": {
        "colab": {
          "base_uri": "https://localhost:8080/"
        },
        "id": "XuHLqU9jCeQ-",
        "outputId": "39293270-5c50-4f67-8bc8-d6a06bcb4bf1"
      },
      "execution_count": 21,
      "outputs": [
        {
          "output_type": "stream",
          "name": "stdout",
          "text": [
            "x_train shape: (56324,)\n",
            "y_train shape: (56324,)\n",
            "x_test shape: (4245,)\n",
            "y_test shape: (4245,)\n",
            "x_val shape: (14081,)\n",
            "y_val shape: (14081,)\n"
          ]
        }
      ]
    },
    {
      "cell_type": "markdown",
      "source": [
        "### Tokenizing and creating a fixed length for input"
      ],
      "metadata": {
        "id": "Fp_04tYHCxb8"
      }
    },
    {
      "cell_type": "code",
      "source": [
        "token = Tokenizer(lower=False)\n",
        "token.fit_on_texts(x_train)\n",
        "\n",
        "x_train = token.texts_to_sequences(x_train)\n",
        "x_val = token.texts_to_sequences(x_val)\n",
        "x_test = token.texts_to_sequences(x_test)"
      ],
      "metadata": {
        "id": "hs-mIljfC4RT"
      },
      "execution_count": 22,
      "outputs": []
    },
    {
      "cell_type": "code",
      "source": [
        "doc_len_list = [len(doc) for doc in x_train]"
      ],
      "metadata": {
        "id": "s8WQMyV9Db4E"
      },
      "execution_count": 23,
      "outputs": []
    },
    {
      "cell_type": "code",
      "source": [
        "max(doc_len_list), min(doc_len_list), np.mean(doc_len_list)"
      ],
      "metadata": {
        "colab": {
          "base_uri": "https://localhost:8080/"
        },
        "id": "gmlkk6rADi3X",
        "outputId": "9cd5b12f-6637-4140-819a-4f34244aeff8"
      },
      "execution_count": 24,
      "outputs": [
        {
          "output_type": "execute_result",
          "data": {
            "text/plain": [
              "(185, 0, 5.830427526454087)"
            ]
          },
          "metadata": {},
          "execution_count": 24
        }
      ]
    },
    {
      "cell_type": "code",
      "source": [
        "sns.histplot(doc_len_list)"
      ],
      "metadata": {
        "colab": {
          "base_uri": "https://localhost:8080/",
          "height": 282
        },
        "id": "WGUavabFDoBr",
        "outputId": "f2b0f79c-c14f-4d94-f47f-1f652eaf6c68"
      },
      "execution_count": 25,
      "outputs": [
        {
          "output_type": "execute_result",
          "data": {
            "text/plain": [
              "<matplotlib.axes._subplots.AxesSubplot at 0x7fa2f9e430d0>"
            ]
          },
          "metadata": {},
          "execution_count": 25
        },
        {
          "output_type": "display_data",
          "data": {
            "text/plain": [
              "<Figure size 432x288 with 1 Axes>"
            ],
            "image/png": "[encoded data removed]"
          },
          "metadata": {
            "needs_background": "light"
          }
        }
      ]
    },
    {
      "cell_type": "code",
      "source": [
        "max_words = 30\n",
        "\n",
        "x_train_dl = pad_sequences(x_train, maxlen=max_words)\n",
        "x_val_dl = pad_sequences(x_val, maxlen=max_words)\n",
        "x_test_dl = pad_sequences(x_test, maxlen=max_words)"
      ],
      "metadata": {
        "id": "8rEHr9xJD4WL"
      },
      "execution_count": 26,
      "outputs": []
    },
    {
      "cell_type": "code",
      "source": [
        "x_train_dl[10, :]"
      ],
      "metadata": {
        "colab": {
          "base_uri": "https://localhost:8080/"
        },
        "id": "Og0W67PhF1MB",
        "outputId": "8f466f32-3fa7-4a2f-dd0f-48fd1300a7b2"
      },
      "execution_count": 27,
      "outputs": [
        {
          "output_type": "execute_result",
          "data": {
            "text/plain": [
              "array([   0,    0,    0,    0,    0,    0,    0,    0,    0,    0,    0,\n",
              "          0,    0,    0,    0,    0,    0,  396,  881,  456,  129, 2270,\n",
              "          3, 8509, 6680,  204,    3,   51,   18,  456], dtype=int32)"
            ]
          },
          "metadata": {},
          "execution_count": 27
        }
      ]
    },
    {
      "cell_type": "code",
      "source": [
        "total_words = len(token.word_index) + 1 \n",
        "total_words"
      ],
      "metadata": {
        "colab": {
          "base_uri": "https://localhost:8080/"
        },
        "id": "1TveODTWGBwe",
        "outputId": "f14cddff-c87d-4cfa-eda1-f8d9a8a354c0"
      },
      "execution_count": 28,
      "outputs": [
        {
          "output_type": "execute_result",
          "data": {
            "text/plain": [
              "25082"
            ]
          },
          "metadata": {},
          "execution_count": 28
        }
      ]
    },
    {
      "cell_type": "code",
      "source": [
        "lb = LabelBinarizer()\n",
        "y_train = lb.fit_transform(y_train)\n",
        "y_test = lb.transform(y_test)\n",
        "y_val = lb.transform(y_val)"
      ],
      "metadata": {
        "id": "jLtC0S43Iv4M"
      },
      "execution_count": 29,
      "outputs": []
    },
    {
      "cell_type": "markdown",
      "source": [
        "## **Creating the Model**"
      ],
      "metadata": {
        "id": "Fl4-_L_yGEyK"
      }
    },
    {
      "cell_type": "code",
      "source": [
        "model = Sequential()\n",
        "model.add(Embedding(input_dim=total_words, output_dim=200, input_length=max_words))\n",
        "model.add(Conv1D(8, 3, padding='same', activation='relu'))\n",
        "model.add(Flatten())\n",
        "model.add(Dense(64, activation='relu'))\n",
        "model.add(Dropout(0.5))\n",
        "model.add(Dense(1, activation='sigmoid'))\n",
        "model.compile(loss='binary_crossentropy', optimizer='adam', metrics=['accuracy'])\n",
        "model.summary()"
      ],
      "metadata": {
        "colab": {
          "base_uri": "https://localhost:8080/"
        },
        "id": "RT_8YMZFGGoX",
        "outputId": "fac1f471-023b-4506-8011-734dd2e2b86d"
      },
      "execution_count": 30,
      "outputs": [
        {
          "output_type": "stream",
          "name": "stdout",
          "text": [
            "Model: \"sequential\"\n",
            "_________________________________________________________________\n",
            " Layer (type)                Output Shape              Param #   \n",
            "=================================================================\n",
            " embedding (Embedding)       (None, 30, 200)           5016400   \n",
            "                                                                 \n",
            " conv1d (Conv1D)             (None, 30, 8)             4808      \n",
            "                                                                 \n",
            " flatten (Flatten)           (None, 240)               0         \n",
            "                                                                 \n",
            " dense (Dense)               (None, 64)                15424     \n",
            "                                                                 \n",
            " dropout (Dropout)           (None, 64)                0         \n",
            "                                                                 \n",
            " dense_1 (Dense)             (None, 1)                 65        \n",
            "                                                                 \n",
            "=================================================================\n",
            "Total params: 5,036,697\n",
            "Trainable params: 5,036,697\n",
            "Non-trainable params: 0\n",
            "_________________________________________________________________\n"
          ]
        }
      ]
    },
    {
      "cell_type": "code",
      "source": [
        "model.fit(x_train_dl, y_train, validation_data=(x_val_dl, y_val), epochs=5, batch_size=64)"
      ],
      "metadata": {
        "colab": {
          "base_uri": "https://localhost:8080/"
        },
        "id": "mEYkHnFxGPTZ",
        "outputId": "1bccb2cf-ac83-4584-8550-126ba1e99da9"
      },
      "execution_count": 32,
      "outputs": [
        {
          "output_type": "stream",
          "name": "stdout",
          "text": [
            "Epoch 1/5\n",
            "881/881 [==============================] - 80s 90ms/step - loss: 0.2159 - accuracy: 0.8884 - val_loss: 0.8556 - val_accuracy: 0.7157\n",
            "Epoch 2/5\n",
            "881/881 [==============================] - 70s 79ms/step - loss: 0.1972 - accuracy: 0.8962 - val_loss: 0.9612 - val_accuracy: 0.7093\n",
            "Epoch 3/5\n",
            "881/881 [==============================] - 68s 77ms/step - loss: 0.1863 - accuracy: 0.9012 - val_loss: 1.0598 - val_accuracy: 0.7127\n",
            "Epoch 4/5\n",
            "881/881 [==============================] - 69s 78ms/step - loss: 0.1753 - accuracy: 0.9074 - val_loss: 1.1734 - val_accuracy: 0.7102\n",
            "Epoch 5/5\n",
            "881/881 [==============================] - 68s 77ms/step - loss: 0.1689 - accuracy: 0.9097 - val_loss: 1.2747 - val_accuracy: 0.7097\n"
          ]
        },
        {
          "output_type": "execute_result",
          "data": {
            "text/plain": [
              "<keras.callbacks.History at 0x7fa2f8250c40>"
            ]
          },
          "metadata": {},
          "execution_count": 32
        }
      ]
    },
    {
      "cell_type": "code",
      "source": [
        "y_train_pred = model.predict(x_train_dl)\n",
        "y_pred_train_labels = y_train_pred.round()\n",
        "accuracy_score(y_train, y_pred_train_labels)"
      ],
      "metadata": {
        "colab": {
          "base_uri": "https://localhost:8080/"
        },
        "id": "g_KFKEFWvRR1",
        "outputId": "b83fa8a7-8f42-44ff-b117-ae5b2b0dc13e"
      },
      "execution_count": 33,
      "outputs": [
        {
          "output_type": "stream",
          "name": "stdout",
          "text": [
            "1761/1761 [==============================] - 9s 5ms/step\n"
          ]
        },
        {
          "output_type": "execute_result",
          "data": {
            "text/plain": [
              "0.9167317662097862"
            ]
          },
          "metadata": {},
          "execution_count": 33
        }
      ]
    },
    {
      "cell_type": "code",
      "source": [
        "model.evaluate(x_test_dl, y_test)"
      ],
      "metadata": {
        "id": "x-azRB2yJHFp"
      },
      "execution_count": null,
      "outputs": []
    },
    {
      "cell_type": "code",
      "source": [
        "len(model.layers)"
      ],
      "metadata": {
        "colab": {
          "base_uri": "https://localhost:8080/"
        },
        "id": "hiTvfjdjvrZB",
        "outputId": "df3bbcca-09c9-4a96-80fe-79715e359a45"
      },
      "execution_count": 34,
      "outputs": [
        {
          "output_type": "execute_result",
          "data": {
            "text/plain": [
              "6"
            ]
          },
          "metadata": {},
          "execution_count": 34
        }
      ]
    },
    {
      "cell_type": "markdown",
      "source": [
        "## Accuracy score for characters"
      ],
      "metadata": {
        "id": "sTyXIduKt-Jl"
      }
    },
    {
      "cell_type": "code",
      "source": [
        "test_df = pd.read_csv('https://github.com/odedovadia/AdvancedMLDLCourse/blob/main/Assignments/Assignment%20III/test.csv?raw=true')\n",
        "\n",
        "characters = train_df['Character'].unique().tolist()\n",
        "\n",
        "# Create a dictionary to hold the accuracy scores by character\n",
        "accuracy_by_character = {}\n",
        "\n",
        "for character in characters:\n",
        "  character_test = test_df[test_df['Character'] == character]\n",
        "\n",
        "  # Preprocess the text data\n",
        "  character_x_test = character_test['Dialogue']\n",
        "  character_x_test.replace('\\n' , ' ')\n",
        "  character_x_test = character_x_test.apply(remove_special_characters)\n",
        "  character_x_test = token.texts_to_sequences(character_x_test)\n",
        "  character_x_test = pad_sequences(character_x_test, maxlen=max_words)\n",
        "\n",
        "  character_y_test = character_test['Show']\n",
        "  character_y_test = lb.transform(character_y_test) \n",
        "\n",
        "  # predict with model\n",
        "  y_pred = model.predict(character_x_test)\n",
        "  y_pred_binary = (y_pred >= 0.5).astype(int)\n",
        "  accuracy = accuracy_score(character_y_test, y_pred_binary)\n",
        "  \n",
        "  # Add the accuracy score to the dictionary\n",
        "  accuracy_by_character[character] = accuracy"
      ],
      "metadata": {
        "colab": {
          "base_uri": "https://localhost:8080/"
        },
        "id": "bBChOWAiwF-5",
        "outputId": "912f0416-32b4-4ede-c733-b7643c9f2987"
      },
      "execution_count": 35,
      "outputs": [
        {
          "output_type": "stream",
          "name": "stdout",
          "text": [
            "15/15 [==============================] - 0s 6ms/step\n",
            "13/13 [==============================] - 0s 7ms/step\n",
            "10/10 [==============================] - 0s 5ms/step\n",
            "13/13 [==============================] - 0s 6ms/step\n",
            "10/10 [==============================] - 0s 7ms/step\n",
            "12/12 [==============================] - 0s 5ms/step\n",
            "15/15 [==============================] - 0s 11ms/step\n",
            "15/15 [==============================] - 0s 6ms/step\n",
            "15/15 [==============================] - 0s 7ms/step\n",
            "19/19 [==============================] - 0s 6ms/step\n"
          ]
        }
      ]
    },
    {
      "cell_type": "code",
      "source": [
        "print(accuracy_by_character)"
      ],
      "metadata": {
        "colab": {
          "base_uri": "https://localhost:8080/"
        },
        "id": "S_2bvgBhGIAt",
        "outputId": "1827d27c-c687-4c17-9ad8-b56e062d07bc"
      },
      "execution_count": 36,
      "outputs": [
        {
          "output_type": "stream",
          "name": "stdout",
          "text": [
            "{'joey': 0.8813559322033898, 'phoebe': 0.8578680203045685, 'elaine': 0.7328767123287672, 'chandler': 0.8540145985401459, 'kramer': 0.7297297297297297, 'monica': 0.8664921465968587, 'ross': 0.8547368421052631, 'george': 0.6835443037974683, 'rachel': 0.8809523809523809, 'jerry': 0.7393526405451448}\n"
          ]
        }
      ]
    },
    {
      "cell_type": "code",
      "source": [
        "# Plot the results\n",
        "plt.figure(figsize=(12, 8))\n",
        "plt.bar(accuracy_by_character.keys(), accuracy_by_character.values(), color='pink', edgecolor='black', linewidth=2)\n",
        "\n",
        "plt.xlabel('Character', fontsize=16)\n",
        "plt.ylabel('Accuracy', fontsize=16)\n",
        "plt.title('Accuracy by Character', fontsize=20)\n",
        "plt.tick_params(axis='both', which='major', labelsize=14)\n",
        "\n",
        "for character, accuracy in accuracy_by_character.items():\n",
        "    plt.text(character, accuracy, f'{accuracy:.2f}', ha='center', va='bottom', fontsize=12)\n",
        "\n",
        "plt.show()\n"
      ],
      "metadata": {
        "colab": {
          "base_uri": "https://localhost:8080/",
          "height": 527
        },
        "id": "UXowNAqFGYn6",
        "outputId": "0d132307-cbe7-4e2b-fc3d-66b847d89e11"
      },
      "execution_count": 37,
      "outputs": [
        {
          "output_type": "display_data",
          "data": {
            "text/plain": [
              "<Figure size 864x576 with 1 Axes>"
            ],
            "image/png": "[encoded data removed]"
          },
          "metadata": {
            "needs_background": "light"
          }
        }
      ]
    },
    {
      "cell_type": "markdown",
      "source": [
        "## **Summary**"
      ],
      "metadata": {
        "id": "maiHDx2cm6vC"
      }
    },
    {
      "cell_type": "code",
      "source": [
        "# Keep keys the same, and replace values according to your results and the specified type \n",
        "\n",
        "results = {'Test set accuracy' : ['0.8268'],\n",
        "           'Train set accuracy': ['0.9003'] ,\n",
        "           'Number of trainable parameters': ['5,036,697'],\n",
        "           'Number of layers': ['6'],\n",
        "           'Regularization methods': ['Dropout'],\n",
        "           'Number of epochs': ['5'],\n",
        "           'Choice of loss function': ['Binary Crossentropy'],\n",
        "           'Choice of optimizer': ['adam'],\n",
        "           'Embedding dimension': ['200']}\n",
        "\n",
        "result = pd.DataFrame(results)\n",
        "result"
      ],
      "metadata": {
        "id": "E7iyCGqqm7N-",
        "colab": {
          "base_uri": "https://localhost:8080/",
          "height": 142
        },
        "outputId": "6d360f09-d67d-41f1-a1ff-cadfb5795c6d"
      },
      "execution_count": 38,
      "outputs": [
        {
          "output_type": "execute_result",
          "data": {
            "text/plain": [
              "  Test set accuracy Train set accuracy Number of trainable parameters  \\\n",
              "0            0.8268             0.9003                      5,036,697   \n",
              "\n",
              "  Number of layers Regularization methods Number of epochs  \\\n",
              "0                6                Dropout                5   \n",
              "\n",
              "  Choice of loss function Choice of optimizer Embedding dimension  \n",
              "0     Binary Crossentropy                adam                 200  "
            ],
            "text/html": [
              "\n",
              "  <div id=\"df-f3aac619-ec1d-4a85-9ddd-8704cdb80d90\">\n",
              "    <div class=\"colab-df-container\">\n",
              "      <div>\n",
              "<style scoped>\n",
              "    .dataframe tbody tr th:only-of-type {\n",
              "        vertical-align: middle;\n",
              "    }\n",
              "\n",
              "    .dataframe tbody tr th {\n",
              "        vertical-align: top;\n",
              "    }\n",
              "\n",
              "    .dataframe thead th {\n",
              "        text-align: right;\n",
              "    }\n",
              "</style>\n",
              "<table border=\"1\" class=\"dataframe\">\n",
              "  <thead>\n",
              "    <tr style=\"text-align: right;\">\n",
              "      <th></th>\n",
              "      <th>Test set accuracy</th>\n",
              "      <th>Train set accuracy</th>\n",
              "      <th>Number of trainable parameters</th>\n",
              "      <th>Number of layers</th>\n",
              "      <th>Regularization methods</th>\n",
              "      <th>Number of epochs</th>\n",
              "      <th>Choice of loss function</th>\n",
              "      <th>Choice of optimizer</th>\n",
              "      <th>Embedding dimension</th>\n",
              "    </tr>\n",
              "  </thead>\n",
              "  <tbody>\n",
              "    <tr>\n",
              "      <th>0</th>\n",
              "      <td>0.8268</td>\n",
              "      <td>0.9003</td>\n",
              "      <td>5,036,697</td>\n",
              "      <td>6</td>\n",
              "      <td>Dropout</td>\n",
              "      <td>5</td>\n",
              "      <td>Binary Crossentropy</td>\n",
              "      <td>adam</td>\n",
              "      <td>200</td>\n",
              "    </tr>\n",
              "  </tbody>\n",
              "</table>\n",
              "</div>\n",
              "      <button class=\"colab-df-convert\" onclick=\"convertToInteractive('df-f3aac619-ec1d-4a85-9ddd-8704cdb80d90')\"\n",
              "              title=\"Convert this dataframe to an interactive table.\"\n",
              "              style=\"display:none;\">\n",
              "        \n",
              "  <svg xmlns=\"http://www.w3.org/2000/svg\" height=\"24px\"viewBox=\"0 0 24 24\"\n",
              "       width=\"24px\">\n",
              "    <path d=\"M0 0h24v24H0V0z\" fill=\"none\"/>\n",
              "    <path d=\"M18.56 5.44l.94 2.06.94-2.06 2.06-.94-2.06-.94-.94-2.06-.94 2.06-2.06.94zm-11 1L8.5 8.5l.94-2.06 2.06-.94-2.06-.94L8.5 2.5l-.94 2.06-2.06.94zm10 10l.94 2.06.94-2.06 2.06-.94-2.06-.94-.94-2.06-.94 2.06-2.06.94z\"/><path d=\"M17.41 7.96l-1.37-1.37c-.4-.4-.92-.59-1.43-.59-.52 0-1.04.2-1.43.59L10.3 9.45l-7.72 7.72c-.78.78-.78 2.05 0 2.83L4 21.41c.39.39.9.59 1.41.59.51 0 1.02-.2 1.41-.59l7.78-7.78 2.81-2.81c.8-.78.8-2.07 0-2.86zM5.41 20L4 18.59l7.72-7.72 1.47 1.35L5.41 20z\"/>\n",
              "  </svg>\n",
              "      </button>\n",
              "      \n",
              "  <style>\n",
              "    .colab-df-container {\n",
              "      display:flex;\n",
              "      flex-wrap:wrap;\n",
              "      gap: 12px;\n",
              "    }\n",
              "\n",
              "    .colab-df-convert {\n",
              "      background-color: #E8F0FE;\n",
              "      border: none;\n",
              "      border-radius: 50%;\n",
              "      cursor: pointer;\n",
              "      display: none;\n",
              "      fill: #1967D2;\n",
              "      height: 32px;\n",
              "      padding: 0 0 0 0;\n",
              "      width: 32px;\n",
              "    }\n",
              "\n",
              "    .colab-df-convert:hover {\n",
              "      background-color: #E2EBFA;\n",
              "      box-shadow: 0px 1px 2px rgba(60, 64, 67, 0.3), 0px 1px 3px 1px rgba(60, 64, 67, 0.15);\n",
              "      fill: #174EA6;\n",
              "    }\n",
              "\n",
              "    [theme=dark] .colab-df-convert {\n",
              "      background-color: #3B4455;\n",
              "      fill: #D2E3FC;\n",
              "    }\n",
              "\n",
              "    [theme=dark] .colab-df-convert:hover {\n",
              "      background-color: #434B5C;\n",
              "      box-shadow: 0px 1px 3px 1px rgba(0, 0, 0, 0.15);\n",
              "      filter: drop-shadow(0px 1px 2px rgba(0, 0, 0, 0.3));\n",
              "      fill: #FFFFFF;\n",
              "    }\n",
              "  </style>\n",
              "\n",
              "      <script>\n",
              "        const buttonEl =\n",
              "          document.querySelector('#df-f3aac619-ec1d-4a85-9ddd-8704cdb80d90 button.colab-df-convert');\n",
              "        buttonEl.style.display =\n",
              "          google.colab.kernel.accessAllowed ? 'block' : 'none';\n",
              "\n",
              "        async function convertToInteractive(key) {\n",
              "          const element = document.querySelector('#df-f3aac619-ec1d-4a85-9ddd-8704cdb80d90');\n",
              "          const dataTable =\n",
              "            await google.colab.kernel.invokeFunction('convertToInteractive',\n",
              "                                                     [key], {});\n",
              "          if (!dataTable) return;\n",
              "\n",
              "          const docLinkHtml = 'Like what you see? Visit the ' +\n",
              "            '<a target=\"_blank\" href=https://colab.research.google.com/notebooks/data_table.ipynb>data table notebook</a>'\n",
              "            + ' to learn more about interactive tables.';\n",
              "          element.innerHTML = '';\n",
              "          dataTable['output_type'] = 'display_data';\n",
              "          await google.colab.output.renderOutput(dataTable, element);\n",
              "          const docLink = document.createElement('div');\n",
              "          docLink.innerHTML = docLinkHtml;\n",
              "          element.appendChild(docLink);\n",
              "        }\n",
              "      </script>\n",
              "    </div>\n",
              "  </div>\n",
              "  "
            ]
          },
          "metadata": {},
          "execution_count": 38
        }
      ]
    },
    {
      "cell_type": "code",
      "source": [
        "import os\n",
        "from google.colab import files\n",
        "result.to_csv(os.path.join(os.getcwd(), 'exercise3.csv'))\n",
        "files.download('exercise3.csv')"
      ],
      "metadata": {
        "id": "huglVABdyQm7"
      },
      "execution_count": null,
      "outputs": []
    }
  ]
}
